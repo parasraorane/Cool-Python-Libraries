{
 "cells": [
  {
   "cell_type": "markdown",
   "id": "00e373e8",
   "metadata": {},
   "source": [
    "<h1><center>Cool Python Libraries</center></h1>"
   ]
  },
  {
   "cell_type": "markdown",
   "id": "be43e5fb",
   "metadata": {},
   "source": [
    "<h2><center>1. Cryptography</center></h2>"
   ]
  },
  {
   "cell_type": "markdown",
   "id": "3a082789",
   "metadata": {},
   "source": [
    "Library to encrypt and decrypt text message"
   ]
  },
  {
   "cell_type": "code",
   "execution_count": 1,
   "id": "8a702153",
   "metadata": {},
   "outputs": [
    {
     "name": "stdout",
     "output_type": "stream",
     "text": [
      "Generated Key: b'qLH9AHIZRCVpVfG4gT9_TZDwXmaLyrecjm_Ln7sCAlU='\n",
      "Text to encrypt: Cool Python Libraries\n",
      "Decrypted text: b'Cool Python Libraries'\n"
     ]
    }
   ],
   "source": [
    "from cryptography.fernet import Fernet\n",
    "\n",
    "key = Fernet.generate_key()\n",
    "print(\"Generated Key:\",key)\n",
    "\n",
    "f = Fernet(key)\n",
    "\n",
    "token = f.encrypt(bytes(input(\"Text to encrypt: \"),\"utf-8\"))\n",
    "\n",
    "print(\"Decrypted text:\",f.decrypt(token))"
   ]
  }
 ],
 "metadata": {
  "kernelspec": {
   "display_name": "Python 3 (ipykernel)",
   "language": "python",
   "name": "python3"
  },
  "language_info": {
   "codemirror_mode": {
    "name": "ipython",
    "version": 3
   },
   "file_extension": ".py",
   "mimetype": "text/x-python",
   "name": "python",
   "nbconvert_exporter": "python",
   "pygments_lexer": "ipython3",
   "version": "3.8.13"
  }
 },
 "nbformat": 4,
 "nbformat_minor": 5
}
